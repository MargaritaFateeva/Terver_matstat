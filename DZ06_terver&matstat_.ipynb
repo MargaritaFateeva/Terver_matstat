{
  "nbformat": 4,
  "nbformat_minor": 0,
  "metadata": {
    "colab": {
      "provenance": [],
      "authorship_tag": "ABX9TyPf4ke1JwoakaJ2tankoFgK",
      "include_colab_link": true
    },
    "kernelspec": {
      "name": "python3",
      "display_name": "Python 3"
    },
    "language_info": {
      "name": "python"
    }
  },
  "cells": [
    {
      "cell_type": "markdown",
      "metadata": {
        "id": "view-in-github",
        "colab_type": "text"
      },
      "source": [
        "<a href=\"https://colab.research.google.com/github/MargaritaFateeva/Terver_matstat/blob/main/DZ06_terver%26matstat_.ipynb\" target=\"_parent\"><img src=\"https://colab.research.google.com/assets/colab-badge.svg\" alt=\"Open In Colab\"/></a>"
      ]
    },
    {
      "cell_type": "markdown",
      "source": [
        "Урок 6. Сравнение долей. Построение доверительного интервала\n",
        "\n",
        "**Задача 1.** Известно, что генеральная совокупность распределена нормально\n",
        "со средним квадратическим отклонением, равным 16.\n",
        "Найти доверительный интервал для оценки математического ожидания с надежностью\n",
        "0.95,\n",
        "если выборочная средняя M = 80, а объем выборки n = 256."
      ],
      "metadata": {
        "id": "4-jy7sPArfwN"
      }
    },
    {
      "cell_type": "markdown",
      "source": [
        "РЕШЕНИЕ:"
      ],
      "metadata": {
        "id": "BPsZBjaisCX8"
      }
    },
    {
      "cell_type": "markdown",
      "source": [
        "q=16\n",
        "a=0.05\n",
        "xср=80\n",
        "n=256\n",
        "Сигма известна, выбираем Z-критерий\n",
        "xср +- z a/2 * q/n^1/2\n",
        "z 0.025=1.96 - табличное значение соответсвует p=0.975\n",
        "80-1.96*16/16 < m < 80+1.96\n",
        "\n",
        "**(78,04;81,96)** - доверительный интервал для оценки мат.ожидания генеральной соовокупности с надежностью 0.95"
      ],
      "metadata": {
        "id": "BTU8Lk4osLEp"
      }
    },
    {
      "cell_type": "code",
      "execution_count": 1,
      "metadata": {
        "id": "SUoKtJLsrfJJ"
      },
      "outputs": [],
      "source": [
        "import numpy as np"
      ]
    },
    {
      "cell_type": "code",
      "source": [
        "from scipy import stats"
      ],
      "metadata": {
        "id": "WQwYFtXcvMzj"
      },
      "execution_count": 2,
      "outputs": []
    },
    {
      "cell_type": "code",
      "source": [
        "q=16\n",
        "a=0.05\n",
        "x=80\n",
        "n=256\n",
        "z=stats.norm.ppf(0.975)\n",
        "a = x-z*q/np.sqrt(n)\n",
        "b = x+z*q/np.sqrt(n)\n",
        "a, b"
      ],
      "metadata": {
        "colab": {
          "base_uri": "https://localhost:8080/"
        },
        "id": "1JIIA-3Evfqy",
        "outputId": "d2803629-a6f2-4911-d853-89e8e7670085"
      },
      "execution_count": 9,
      "outputs": [
        {
          "output_type": "execute_result",
          "data": {
            "text/plain": [
              "(78.04003601545995, 81.95996398454005)"
            ]
          },
          "metadata": {},
          "execution_count": 9
        }
      ]
    },
    {
      "cell_type": "markdown",
      "source": [
        "**Задача 2.** В результате 10 независимых измерений некоторой величины X, выполненных с\n",
        "одинаковой точностью,\n",
        "получены опытные данные:\n",
        "\n",
        "6.9, 6.1, 6.2, 6.8, 7.5, 6.3, 6.4, 6.9, 6.7, 6.1\n",
        "\n",
        "Предполагая, что результаты измерений подчинены нормальному закону распределения\n",
        "вероятностей,\n",
        "оценить истинное значение величины X при помощи доверительного интервала,\n",
        "покрывающего это\n",
        "значение с доверительной вероятностью 0,95."
      ],
      "metadata": {
        "id": "0MQbW-chrjn9"
      }
    },
    {
      "cell_type": "markdown",
      "source": [
        "РЕШЕНИЕ:"
      ],
      "metadata": {
        "id": "KUV5jHbhsGiB"
      }
    },
    {
      "cell_type": "markdown",
      "source": [
        "a=0.05\n",
        "n=10\n",
        "xcp = (6.9+6.1+6.2+6.8+7.5+6.3+6.4+6.9+6.7+6.1)/10=6.59\n",
        "Сигма неизвестна, выбираем критерий Стьюдента\n",
        "xср +- t a/2 * q/n^1/2\n",
        "t 0.025=2,262 - табличное значение 9 степеней свободы p=0,975\n",
        "q=0.45 сигма считаем в Python\n",
        "6.59-2,262*0.45/10^1/2 < m < 6.59+2,262*0.45/10^1/2\n",
        "\n",
        "**(6,268;6,911)** - доверительный интервал для оценки мат.ожидания генеральной соовокупности с надежностью 0.95"
      ],
      "metadata": {
        "id": "EpzBjoO0sL9c"
      }
    },
    {
      "cell_type": "code",
      "source": [
        "x=np.array([6.9, 6.1, 6.2, 6.8, 7.5, 6.3, 6.4, 6.9, 6.7, 6.1])\n",
        "xsr = np.mean(x)\n",
        "xsr"
      ],
      "metadata": {
        "colab": {
          "base_uri": "https://localhost:8080/"
        },
        "id": "Vv6mzCYZxFmJ",
        "outputId": "be7694c5-cc7a-4b77-ce16-4faaed2a0f17"
      },
      "execution_count": 19,
      "outputs": [
        {
          "output_type": "execute_result",
          "data": {
            "text/plain": [
              "6.590000000000001"
            ]
          },
          "metadata": {},
          "execution_count": 19
        }
      ]
    },
    {
      "cell_type": "code",
      "source": [
        "q=np.std(x,ddof=1)\n",
        "q"
      ],
      "metadata": {
        "colab": {
          "base_uri": "https://localhost:8080/"
        },
        "id": "muAISLopxYY7",
        "outputId": "e591284c-ef31-4f64-d3bb-9e8e1187dacf"
      },
      "execution_count": 17,
      "outputs": [
        {
          "output_type": "execute_result",
          "data": {
            "text/plain": [
              "0.4508017549014448"
            ]
          },
          "metadata": {},
          "execution_count": 17
        }
      ]
    },
    {
      "cell_type": "code",
      "source": [
        "alpha = 0.05\n",
        "n = 10\n",
        "t=stats.t.ppf((1-alpha/2), df=n-1)\n",
        "a = xsr-t*q/np.sqrt(n)\n",
        "b = xsr+t*q/np.sqrt(n)\n",
        "a, b"
      ],
      "metadata": {
        "colab": {
          "base_uri": "https://localhost:8080/"
        },
        "id": "sopk68tlxt_f",
        "outputId": "3552dc6e-e9fb-4c34-94b7-83e723a21ccd"
      },
      "execution_count": 18,
      "outputs": [
        {
          "output_type": "execute_result",
          "data": {
            "text/plain": [
              "(6.267515851415713, 6.912484148584288)"
            ]
          },
          "metadata": {},
          "execution_count": 18
        }
      ]
    },
    {
      "cell_type": "markdown",
      "source": [
        "**Задача 3.** Рост дочерей 175, 167, 154, 174, 178, 148, 160, 167, 169, 170\n",
        "\n",
        "Рост матерей 178, 165, 165, 173, 168, 155, 160, 164, 178, 175\n",
        "\n",
        "Используя эти данные построить 95% доверительный интервал для разности среднего\n",
        "роста родителей и детей."
      ],
      "metadata": {
        "id": "dHV1FhEwrmlK"
      }
    },
    {
      "cell_type": "markdown",
      "source": [
        "РЕШЕНИЕ:"
      ],
      "metadata": {
        "id": "GLWVzuVzsHtS"
      }
    },
    {
      "cell_type": "markdown",
      "source": [
        "Доверительный интервал для разности средних арифметических строится по формуле:\n",
        "delta+-t alpfa/2*SE, где SE=(D/n1+D/n2)^1/2 и D=(d1+d2)/2\n",
        "средние значения по выборкам:\n",
        "dsr=(175+167+154+174+178+148+160+167+169+170)/10=166,2\n",
        "msr=(178+165+165+173+168+155+160+164+178+175)/10=168.1\n",
        "delta=dsr-msr=166,2-168,1=-1,8\n",
        "\n",
        "Дисперсии считаем в Python:\n",
        "dd=91.06\n",
        "dm=60.1\n",
        "D=(91.06+60.1)/2=75.58\n",
        "\n",
        "SE=(75,58/10+75,58/10)^1/2=3,888\n",
        "\n",
        "t0,025=2,101 - - табличное значение 18 степеней свободы p=0,975\n",
        "\n",
        "-1,8-2,101*3,888 < delta M < -1,8+2,101*3,888\n",
        "\n",
        "**(-9,968; 6,368)** - доверительный интервал для оценки разности мат.ожидания генеральной соовокупности с надежностью 0.95"
      ],
      "metadata": {
        "id": "O-lCJe3gw_iL"
      }
    },
    {
      "cell_type": "code",
      "source": [
        "daughter=np.array([175, 167, 154, 174, 178, 148, 160, 167, 169, 170])\n",
        "dsr = np.mean(daughter)\n",
        "dsr"
      ],
      "metadata": {
        "colab": {
          "base_uri": "https://localhost:8080/"
        },
        "id": "-uUorrwP1njw",
        "outputId": "7d61f5c5-9b42-4aea-bdfc-bd47f5d8e7e7"
      },
      "execution_count": 24,
      "outputs": [
        {
          "output_type": "execute_result",
          "data": {
            "text/plain": [
              "166.2"
            ]
          },
          "metadata": {},
          "execution_count": 24
        }
      ]
    },
    {
      "cell_type": "code",
      "source": [
        "d1=np.var(daughter, ddof=1)\n",
        "d1"
      ],
      "metadata": {
        "colab": {
          "base_uri": "https://localhost:8080/"
        },
        "id": "PC-C_TCg3wJN",
        "outputId": "d0106701-1d50-4b06-c7aa-854d09dac255"
      },
      "execution_count": 25,
      "outputs": [
        {
          "output_type": "execute_result",
          "data": {
            "text/plain": [
              "91.06666666666666"
            ]
          },
          "metadata": {},
          "execution_count": 25
        }
      ]
    },
    {
      "cell_type": "code",
      "source": [
        "mother=np.array([178, 165, 165, 173, 168, 155, 160, 164, 178, 175])\n",
        "msr = np.mean(mother)\n",
        "msr"
      ],
      "metadata": {
        "colab": {
          "base_uri": "https://localhost:8080/"
        },
        "id": "ONnqx5Jy1wJo",
        "outputId": "868ae628-67a4-4f46-ff7c-e8c1c6152d10"
      },
      "execution_count": 21,
      "outputs": [
        {
          "output_type": "execute_result",
          "data": {
            "text/plain": [
              "168.1"
            ]
          },
          "metadata": {},
          "execution_count": 21
        }
      ]
    },
    {
      "cell_type": "code",
      "source": [
        "d2=np.var(mother, ddof=1)\n",
        "d2"
      ],
      "metadata": {
        "colab": {
          "base_uri": "https://localhost:8080/"
        },
        "id": "0Zjig88U4YKl",
        "outputId": "7fff32c7-e314-46a8-df03-97a13a1e6678"
      },
      "execution_count": 26,
      "outputs": [
        {
          "output_type": "execute_result",
          "data": {
            "text/plain": [
              "60.10000000000001"
            ]
          },
          "metadata": {},
          "execution_count": 26
        }
      ]
    },
    {
      "cell_type": "code",
      "source": [
        "alf=0.05\n",
        "delta=dsr-msr\n",
        "d=(d1+d2)/2\n",
        "SE=np.sqrt(d/len(daughter)+d/len(mother))\n",
        "t=stats.t.ppf((1-alf/2), df=len(daughter)-1+len(mother)-1)\n",
        "a1=delta-t*SE\n",
        "b1=delta+t*SE\n",
        "a1, b1"
      ],
      "metadata": {
        "colab": {
          "base_uri": "https://localhost:8080/"
        },
        "id": "1j4VFTzt4oXl",
        "outputId": "bcfd2bda-015a-48b1-9da5-8b73e76174d2"
      },
      "execution_count": 30,
      "outputs": [
        {
          "output_type": "execute_result",
          "data": {
            "text/plain": [
              "(-10.068418034506857, 6.268418034506846)"
            ]
          },
          "metadata": {},
          "execution_count": 30
        }
      ]
    }
  ]
}
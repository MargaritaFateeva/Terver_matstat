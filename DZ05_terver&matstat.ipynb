{
  "nbformat": 4,
  "nbformat_minor": 0,
  "metadata": {
    "colab": {
      "provenance": [],
      "authorship_tag": "ABX9TyPkE26B1K4shCvCsEWjlS87",
      "include_colab_link": true
    },
    "kernelspec": {
      "name": "python3",
      "display_name": "Python 3"
    },
    "language_info": {
      "name": "python"
    }
  },
  "cells": [
    {
      "cell_type": "markdown",
      "metadata": {
        "id": "view-in-github",
        "colab_type": "text"
      },
      "source": [
        "<a href=\"https://colab.research.google.com/github/MargaritaFateeva/Terver_matstat/blob/main/DZ05_terver%26matstat.ipynb\" target=\"_parent\"><img src=\"https://colab.research.google.com/assets/colab-badge.svg\" alt=\"Open In Colab\"/></a>"
      ]
    },
    {
      "cell_type": "markdown",
      "source": [
        "**Урок 5. Тестирование гипотез**\n",
        "\n",
        "**Задача 1.** Когда используется критерий Стьюдента, а когда Z –критерий?"
      ],
      "metadata": {
        "id": "UhYowTJj3a2H"
      }
    },
    {
      "cell_type": "markdown",
      "source": [
        "РЕШЕНИЕ:"
      ],
      "metadata": {
        "id": "U17e4-b04WWB"
      }
    },
    {
      "cell_type": "markdown",
      "source": [
        "При условии нормального распределения выборки для гипотез H0: m=m0(конкретное значение среднего) и H1: m!=m0 или m<m0 или m>m0 и выбранного значения альфа a:\n",
        "z-критерий выбираем когда известно среднее квадратичное отклонение сигма q,\n",
        "а критерий Стьюдента когда сигма неизвестна."
      ],
      "metadata": {
        "id": "iGNZrZCVOxN3"
      }
    },
    {
      "cell_type": "markdown",
      "source": [
        "**Задача 2.** Проведите тест гипотезы. Утверждается, что шарики для подшипников, изготовленные\n",
        "автоматическим станком, имеют средний диаметр 17 мм.\n",
        "Используя односторонний критерий с α=0,05, проверить эту гипотезу, если в выборке из\n",
        "n=100 шариков средний диаметр\n",
        "оказался равным 17.5 мм, а дисперсия генеральной совокупности известна и равна 4 кв. мм.\n",
        "Задачи 2,3 решать вручную"
      ],
      "metadata": {
        "id": "o3RrmkCD3zSH"
      }
    },
    {
      "cell_type": "markdown",
      "source": [
        "РЕШЕНИЕ:"
      ],
      "metadata": {
        "id": "0Lqshyx54bnI"
      }
    },
    {
      "cell_type": "markdown",
      "source": [
        "1. H0: m=17\n",
        "H1: m>17\n",
        "2. a = 0,05\n",
        "3. Одновыборочный тест с известной сигмой - выбираем Z-тест\n",
        "4. Zнаблюдаемое = (xср - m0) / (q/(n)^1/2) = 17,5 - 17 / 2/10 = 2,5\n",
        "5. Z критическое = z(1-a) = z(0,95) = 1,65(z-table)\n",
        "6. Т.К правосторонняя критическая область Zн>Zкр - **гипотеза H0 отвергается,принимаем гипотезу H1**"
      ],
      "metadata": {
        "id": "aHr6v55VQpT2"
      }
    },
    {
      "cell_type": "code",
      "source": [
        "import numpy as np"
      ],
      "metadata": {
        "id": "QQAGeMQCTyvv"
      },
      "execution_count": 1,
      "outputs": []
    },
    {
      "cell_type": "code",
      "source": [
        "from scipy import stats"
      ],
      "metadata": {
        "id": "QzSp88o7T3-h"
      },
      "execution_count": 2,
      "outputs": []
    },
    {
      "cell_type": "code",
      "source": [
        "alpha = 0.05\n",
        "n = 100\n",
        "z1=stats.norm.ppf(1-alpha)\n",
        "z1"
      ],
      "metadata": {
        "colab": {
          "base_uri": "https://localhost:8080/"
        },
        "id": "TVk2GWm6UMO7",
        "outputId": "4ac95628-18e6-4f9c-ed96-4a11bf483efc"
      },
      "execution_count": 4,
      "outputs": [
        {
          "output_type": "execute_result",
          "data": {
            "text/plain": [
              "1.6448536269514722"
            ]
          },
          "metadata": {},
          "execution_count": 4
        }
      ]
    },
    {
      "cell_type": "markdown",
      "source": [
        "**Задача 3.** Проведите тест гипотезы. Продавец утверждает, что средний вес пачки печенья\n",
        "составляет 200 г.\n",
        "Из партии извлечена выборка из 10 пачек. Вес каждой пачки составляет:\n",
        "202, 203, 199, 197, 195, 201, 200, 204, 194, 190.\n",
        "Известно, что их веса распределены нормально.\n",
        "Верно ли утверждение продавца, если учитывать, что уровень значимости 1%? (Провести двусторонний тест.)\n",
        "Задачи 2,3 решать вручную"
      ],
      "metadata": {
        "id": "ZPR4lMFR39su"
      }
    },
    {
      "cell_type": "markdown",
      "source": [
        "РЕШЕНИЕ:"
      ],
      "metadata": {
        "id": "39dQDQ5K4c7h"
      }
    },
    {
      "cell_type": "markdown",
      "source": [
        "x среднне = (202, 203, 199, 197, 195, 201, 200, 204, 194, 190)/10 = 198,5\n",
        "\n",
        "n=10\n",
        "\n",
        "qнабл = 4.453\n",
        "\n",
        "1. H0: m=200\n",
        "   H1: m!=200\n",
        "\n",
        "2. a = 0,01\n",
        "\n",
        "3. Нормальное распределение и неизвестно среднее квадратичное отклонение - выбираем критерий Стьюдента\n",
        "\n",
        "4. tнаблюдаемое = (xcp - m0) / qнабл/(n)^1/2 = (198.5-200)/(4.45/10^1/2)=-1.06\n",
        "5. t критическое = 3,25 и -3,25 (тест двусторонний) 9ст свободы и a/2=0.995\n",
        "6. сравниваем с левой критической областью tкр-3,25 < -1,06-tнабл - относится к области принятия гипотезы H0\n",
        "**H0 не отвергаем**\n"
      ],
      "metadata": {
        "id": "tOy8_7v5XYoX"
      }
    },
    {
      "cell_type": "code",
      "source": [
        "x=np.array([202, 203, 199, 197, 195, 201, 200, 204, 194, 190])\n",
        "np.mean(x)"
      ],
      "metadata": {
        "colab": {
          "base_uri": "https://localhost:8080/"
        },
        "id": "J9MOGCY2Z-Y-",
        "outputId": "5b70edbc-dcc0-4d28-a5bb-584f7466f64b"
      },
      "execution_count": 6,
      "outputs": [
        {
          "output_type": "execute_result",
          "data": {
            "text/plain": [
              "198.5"
            ]
          },
          "metadata": {},
          "execution_count": 6
        }
      ]
    },
    {
      "cell_type": "code",
      "source": [
        "np.std(x,ddof=1)"
      ],
      "metadata": {
        "colab": {
          "base_uri": "https://localhost:8080/"
        },
        "id": "wk_b1vFdaUUy",
        "outputId": "ee6bf48c-7d37-4116-a0a0-fc5814681a52"
      },
      "execution_count": 7,
      "outputs": [
        {
          "output_type": "execute_result",
          "data": {
            "text/plain": [
              "4.453463071962462"
            ]
          },
          "metadata": {},
          "execution_count": 7
        }
      ]
    },
    {
      "cell_type": "code",
      "source": [
        "t = (198.5 - 200)/(4.45/np.sqrt(10))\n",
        "t"
      ],
      "metadata": {
        "colab": {
          "base_uri": "https://localhost:8080/"
        },
        "id": "f4FDapk-a2oq",
        "outputId": "4f27f5f8-a653-4e90-e2ae-75af7ae3d11c"
      },
      "execution_count": 10,
      "outputs": [
        {
          "output_type": "execute_result",
          "data": {
            "text/plain": [
              "-1.0659362899443976"
            ]
          },
          "metadata": {},
          "execution_count": 10
        }
      ]
    },
    {
      "cell_type": "code",
      "source": [
        "alpha = 0.01\n",
        "n = 10\n",
        "t1=stats.t.ppf(alpha/2, df=n-1)\n",
        "t2=stats.t.ppf(1-alpha/2, df=n-1)\n",
        "t1, t2"
      ],
      "metadata": {
        "colab": {
          "base_uri": "https://localhost:8080/"
        },
        "id": "GLVO7gdzeFFF",
        "outputId": "6a420322-ed88-49d8-a200-04a7181f8d19"
      },
      "execution_count": 15,
      "outputs": [
        {
          "output_type": "execute_result",
          "data": {
            "text/plain": [
              "(-3.24983554401537, 3.2498355440153697)"
            ]
          },
          "metadata": {},
          "execution_count": 15
        }
      ]
    },
    {
      "cell_type": "code",
      "source": [
        "stats.ttest_1samp(x,10)"
      ],
      "metadata": {
        "colab": {
          "base_uri": "https://localhost:8080/"
        },
        "id": "USrbZiLNcsW-",
        "outputId": "96a3eeb9-cce1-44aa-c5de-485d89d80972"
      },
      "execution_count": 12,
      "outputs": [
        {
          "output_type": "execute_result",
          "data": {
            "text/plain": [
              "TtestResult(statistic=133.8484970706329, pvalue=3.685165845827153e-16, df=9)"
            ]
          },
          "metadata": {},
          "execution_count": 12
        }
      ]
    },
    {
      "cell_type": "markdown",
      "source": [
        "ПРОверка: p-value=3.68 > alpha=0.01 - значит гипотезу H0 не отвергаем"
      ],
      "metadata": {
        "id": "e50tZ-IjoYmf"
      }
    },
    {
      "cell_type": "markdown",
      "source": [
        "**Задача 4.** Есть ли статистически значимые различия в среднем росте матерей и\n",
        "дочерей?\n",
        "Рост матерей 172, 177, 158, 170, 178,175, 164, 160, 169, 165\n",
        "Рост взрослых дочерей: 173, 175, 162, 174, 175, 168, 155, 170, 160, 163\n",
        "Задачу 4 решать с помощью функции."
      ],
      "metadata": {
        "id": "KO-K2xDD4Ang"
      }
    },
    {
      "cell_type": "markdown",
      "source": [
        "РЕШЕНИЕ:"
      ],
      "metadata": {
        "id": "m4pMyuP74d8l"
      }
    },
    {
      "cell_type": "markdown",
      "source": [
        "H0: a_sr=b_sr H1: a_sr!=b_sr\n",
        "\n",
        "a = 0,01"
      ],
      "metadata": {
        "id": "fT0q-X3Jmq_1"
      }
    },
    {
      "cell_type": "code",
      "source": [
        "a=np.array([172, 177, 158, 170, 178, 175, 164, 160, 169, 165])\n",
        "b=np.array([173, 175, 162, 174, 175, 168, 155, 170, 160, 163])\n",
        "alpha = 0.05\n",
        "n = 10\n",
        "t1=stats.t.ppf(alpha/2, df=2*(n-1))\n",
        "t2=stats.t.ppf(1-alpha/2, df=2*(n-1))\n",
        "t1, t2"
      ],
      "metadata": {
        "colab": {
          "base_uri": "https://localhost:8080/"
        },
        "id": "F8DB5gUxgdMF",
        "outputId": "02fccb5e-815c-43a7-928f-9bf326079277"
      },
      "execution_count": 16,
      "outputs": [
        {
          "output_type": "execute_result",
          "data": {
            "text/plain": [
              "(-2.10092204024096, 2.10092204024096)"
            ]
          },
          "metadata": {},
          "execution_count": 16
        }
      ]
    },
    {
      "cell_type": "code",
      "source": [
        "a_sr = np.mean(a)\n",
        "b_sr = np.mean(b)\n",
        "a_sr, b_sr"
      ],
      "metadata": {
        "colab": {
          "base_uri": "https://localhost:8080/"
        },
        "id": "dLyAAO7MlWEl",
        "outputId": "97d41ec9-6d13-4fb4-bdd4-dcce92185948"
      },
      "execution_count": 21,
      "outputs": [
        {
          "output_type": "execute_result",
          "data": {
            "text/plain": [
              "(168.8, 167.5)"
            ]
          },
          "metadata": {},
          "execution_count": 21
        }
      ]
    },
    {
      "cell_type": "code",
      "source": [
        "a_v = np.var(a, ddof=1)\n",
        "b_v = np.var(b,ddof=1)\n",
        "a_v, b_v"
      ],
      "metadata": {
        "colab": {
          "base_uri": "https://localhost:8080/"
        },
        "id": "w9Y78j8wmEh2",
        "outputId": "b89ec99a-08c5-4a47-c81b-39c59b8c834e"
      },
      "execution_count": 25,
      "outputs": [
        {
          "output_type": "execute_result",
          "data": {
            "text/plain": [
              "(48.17777777777778, 50.5)"
            ]
          },
          "metadata": {},
          "execution_count": 25
        }
      ]
    },
    {
      "cell_type": "code",
      "source": [
        "t_emp=(a_sr-b_sr) / np.sqrt(a_v/10+b_v/10)\n",
        "t_emp"
      ],
      "metadata": {
        "colab": {
          "base_uri": "https://localhost:8080/"
        },
        "id": "RABE5FTwmd4e",
        "outputId": "ac2d2203-789f-403a-e99d-2bb9a870c17f"
      },
      "execution_count": 26,
      "outputs": [
        {
          "output_type": "execute_result",
          "data": {
            "text/plain": [
              "0.41384114976800535"
            ]
          },
          "metadata": {},
          "execution_count": 26
        }
      ]
    },
    {
      "cell_type": "markdown",
      "source": [
        "t1 кр=-2.1 < tнабл=0.41 < t2 кр=2.1 - значит **гипотеза H0 не отвергается**"
      ],
      "metadata": {
        "id": "xxGyVP8wnjSh"
      }
    },
    {
      "cell_type": "code",
      "source": [
        "stats.ttest_rel(a, b)"
      ],
      "metadata": {
        "colab": {
          "base_uri": "https://localhost:8080/"
        },
        "id": "nJqHLb1KkcM5",
        "outputId": "202f65e6-3946-46e5-c902-2a64a3cf3b90"
      },
      "execution_count": 18,
      "outputs": [
        {
          "output_type": "execute_result",
          "data": {
            "text/plain": [
              "TtestResult(statistic=0.6648478531431979, pvalue=0.5228168632983574, df=9)"
            ]
          },
          "metadata": {},
          "execution_count": 18
        }
      ]
    },
    {
      "cell_type": "markdown",
      "source": [
        "pvalue=0.5228168632983574 > alpha = 0.05\n",
        "Значит **H0 не отвергается**"
      ],
      "metadata": {
        "id": "1mcPPYSQkyau"
      }
    }
  ]
}
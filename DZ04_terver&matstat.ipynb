{
  "nbformat": 4,
  "nbformat_minor": 0,
  "metadata": {
    "colab": {
      "provenance": [],
      "authorship_tag": "ABX9TyPiiiiKGxMuEGwluxiChtnz",
      "include_colab_link": true
    },
    "kernelspec": {
      "name": "python3",
      "display_name": "Python 3"
    },
    "language_info": {
      "name": "python"
    }
  },
  "cells": [
    {
      "cell_type": "markdown",
      "metadata": {
        "id": "view-in-github",
        "colab_type": "text"
      },
      "source": [
        "<a href=\"https://colab.research.google.com/github/MargaritaFateeva/Terver_matstat/blob/main/DZ04_terver%26matstat.ipynb\" target=\"_parent\"><img src=\"https://colab.research.google.com/assets/colab-badge.svg\" alt=\"Open In Colab\"/></a>"
      ]
    },
    {
      "cell_type": "code",
      "source": [
        "from scipy import stats"
      ],
      "metadata": {
        "id": "XVk_8v8ftGz4"
      },
      "execution_count": 41,
      "outputs": []
    },
    {
      "cell_type": "code",
      "source": [
        "import sympy as sym"
      ],
      "metadata": {
        "id": "-LFOI8HmDu-T"
      },
      "execution_count": 40,
      "outputs": []
    },
    {
      "cell_type": "code",
      "source": [
        "import math"
      ],
      "metadata": {
        "id": "ttuL-2GxJV36"
      },
      "execution_count": 39,
      "outputs": []
    },
    {
      "cell_type": "markdown",
      "source": [
        "**Урок 4. Непрерывная случайная величина**\n",
        "\n",
        "**Задача 1.** Случайная непрерывная величина A имеет равномерное распределение на\n",
        "промежутке (200, 800].\n",
        "Найдите ее среднее значение и дисперсию."
      ],
      "metadata": {
        "id": "aIb7c4g8sCeG"
      }
    },
    {
      "cell_type": "markdown",
      "source": [
        "РЕШЕНИЕ:"
      ],
      "metadata": {
        "id": "Kinv7-Go8uVW"
      }
    },
    {
      "cell_type": "markdown",
      "source": [
        "A~Unif(200,800]\n",
        "\n",
        "m=a+b/2=(800+200)/2=500\n",
        "\n",
        "D=(b-a)^2/12=600^2/12=30 000\n",
        "\n",
        "верно"
      ],
      "metadata": {
        "id": "XTiKyYpj8zBk"
      }
    },
    {
      "cell_type": "code",
      "source": [
        "stats.uniform.mean(loc=200,scale=600)"
      ],
      "metadata": {
        "colab": {
          "base_uri": "https://localhost:8080/"
        },
        "id": "wkC3LrXd_n5V",
        "outputId": "890bded3-9d62-4c0f-ceb2-2dd4b8152d87"
      },
      "execution_count": 12,
      "outputs": [
        {
          "output_type": "execute_result",
          "data": {
            "text/plain": [
              "500.0"
            ]
          },
          "metadata": {},
          "execution_count": 12
        }
      ]
    },
    {
      "cell_type": "code",
      "execution_count": 11,
      "metadata": {
        "colab": {
          "base_uri": "https://localhost:8080/"
        },
        "id": "f45xv9dwrvl0",
        "outputId": "b771607c-68be-4460-fbd3-ca46645c8467"
      },
      "outputs": [
        {
          "output_type": "execute_result",
          "data": {
            "text/plain": [
              "30000.0"
            ]
          },
          "metadata": {},
          "execution_count": 11
        }
      ],
      "source": [
        "stats.uniform.var(loc=200,scale=600)"
      ]
    },
    {
      "cell_type": "markdown",
      "source": [
        "**Задача 2.** О случайной непрерывной равномерно распределенной величине B известно, что ее\n",
        "дисперсия равна 0.2.\n",
        "Можно ли найти правую границу величины B и ее среднее значение зная, что левая\n",
        "граница равна 0.5?\n",
        "Если да, найдите ее."
      ],
      "metadata": {
        "id": "XISW3O1GsIJ5"
      }
    },
    {
      "cell_type": "markdown",
      "source": [
        "РЕШЕНИЕ:"
      ],
      "metadata": {
        "id": "vsdulnU-AI8u"
      }
    },
    {
      "cell_type": "markdown",
      "source": [
        "B~Unif(0,5;x]\n",
        "\n",
        "D=0,2=(b-a)^2/12=(x-0,5)^2/12\n",
        "\n",
        "(x-0,5)^2=2,4\n",
        "\n",
        "x^2-x-2,15=0\n",
        "\n",
        "Disc=b^2-4ac=1-4*1*(-2,15)=1+8,6=9,6\n",
        "\n",
        "x1=(-b+disc^1/2) / 2a = 1+3,1 / 2 = 2,05 - выбираем это решение\n",
        "\n",
        "x2= (-b-disc^1/2) / 2a = 1-3,1 / 2 = -1,05 - не может быть правой границей\n",
        "\n",
        "B~Unif(0,5; 2,05]\n",
        "\n",
        "m=a+b/2=(0,5+2,05)/2=1,275\n",
        "\n",
        "верно"
      ],
      "metadata": {
        "id": "cMRS67VZAL_G"
      }
    },
    {
      "cell_type": "code",
      "source": [
        "x = sym.Symbol('x')"
      ],
      "metadata": {
        "id": "4F_Os5zJsLNK"
      },
      "execution_count": 42,
      "outputs": []
    },
    {
      "cell_type": "code",
      "source": [
        "sym.solveset(x**2-x-2.15, x)"
      ],
      "metadata": {
        "colab": {
          "base_uri": "https://localhost:8080/",
          "height": 37
        },
        "id": "LJoNL-d8GkUN",
        "outputId": "f45ac239-bf38-418a-cba7-e418a84078db"
      },
      "execution_count": 48,
      "outputs": [
        {
          "output_type": "execute_result",
          "data": {
            "text/plain": [
              "{-1.04919333848297, 2.04919333848297}"
            ],
            "text/latex": "$\\displaystyle \\left\\{-1.04919333848297, 2.04919333848297\\right\\}$"
          },
          "metadata": {},
          "execution_count": 48
        }
      ]
    },
    {
      "cell_type": "code",
      "source": [
        "stats.uniform.mean(loc=0.5,scale=1.55)"
      ],
      "metadata": {
        "colab": {
          "base_uri": "https://localhost:8080/"
        },
        "id": "T7pmASdVQoqW",
        "outputId": "caaae7cf-0e0e-4f98-c1bf-4e61679a37d8"
      },
      "execution_count": 49,
      "outputs": [
        {
          "output_type": "execute_result",
          "data": {
            "text/plain": [
              "1.275"
            ]
          },
          "metadata": {},
          "execution_count": 49
        }
      ]
    },
    {
      "cell_type": "markdown",
      "source": [
        "**Задача 3.** Непрерывная случайная величина X распределена нормально и задана плотностью\n",
        "распределения\n",
        "f(x) = (1 / (4 * sqrt(2pi))) * exp((-(x+2)**2) / 32)\n",
        "Найдите:\n",
        "а). M(X)\n",
        "б). D(X)\n",
        "в). std(X) (среднее квадратичное отклонение)"
      ],
      "metadata": {
        "id": "pez5lYbfsLp0"
      }
    },
    {
      "cell_type": "markdown",
      "source": [
        "РЕШЕНИЕ:"
      ],
      "metadata": {
        "id": "Uu4teB7QRG94"
      }
    },
    {
      "cell_type": "markdown",
      "source": [
        "По формуле плотности нормального распределения соотносим параметры\n",
        "\n",
        "f(x) = (1 / (q * sqrt(2pi))) * exp((-(x-a)**2) / 2*q^2)\n",
        "\n",
        "где a = M(X), q^2 = D(X)\n",
        "\n",
        "f(x) = (1 / (4 * sqrt(2pi))) * exp((-(x+2)**2) / 32)\n",
        "\n",
        "M(X) = -2\n",
        "\n",
        "D(X) = 16\n",
        "\n",
        "std(X) = 4"
      ],
      "metadata": {
        "id": "sVSztqgQRJ6u"
      }
    },
    {
      "cell_type": "markdown",
      "source": [
        "**Задача 4.** Рост взрослого населения города X имеет нормальное распределение, причем, средний рост равен 174 см, а среднее квадратическое отклонение равно 8 см. посчитайте, какова вероятность того, что случайным образом выбранный взрослый человек имеет рост:\n",
        "1. больше 182 см?\n",
        "2. больше 190 см?\n",
        "3. от 166 см до 190 см?\n",
        "4. от 166 см до 182 см?\n",
        "5. от 158 см до 190 см?\n",
        "6. не выше 150 см или не ниже 190 см?\n",
        "7. не выше 150 см или не ниже 198 см?\n",
        "8. ниже 166 см?\n",
        "\n",
        "Задачу можно решить двумя способами: без использования сторонних библиотек (numpy, scipy, pandas и пр.), а затем проверить себя с помощью встроенных функций"
      ],
      "metadata": {
        "id": "BreI0m5lsQ5u"
      }
    },
    {
      "cell_type": "markdown",
      "source": [
        "РЕШЕНИЕ:"
      ],
      "metadata": {
        "id": "v4ZLYLJs1RmI"
      }
    },
    {
      "cell_type": "markdown",
      "source": [
        "1 больше 182 см?\n",
        "\n",
        "F(x)~N(174,64)\n",
        "\n",
        "F(x>182)=1-F(x<182)\n",
        "\n",
        "z=(x-m)/q = (182-174)/8= 1\n",
        "\n",
        "F(x<182)=0,84134\n",
        "\n",
        "1-F(x<182)=1-0,84134 = 0,15866\n",
        "\n",
        "верно"
      ],
      "metadata": {
        "id": "slnrshSsvvlB"
      }
    },
    {
      "cell_type": "code",
      "source": [
        "1-stats.norm.cdf(182, loc=174, scale=8)"
      ],
      "metadata": {
        "colab": {
          "base_uri": "https://localhost:8080/"
        },
        "id": "TgOD5ky4slIS",
        "outputId": "17d5637b-504e-4352-aea7-4fa3248829a7"
      },
      "execution_count": 2,
      "outputs": [
        {
          "output_type": "execute_result",
          "data": {
            "text/plain": [
              "0.15865525393145707"
            ]
          },
          "metadata": {},
          "execution_count": 2
        }
      ]
    },
    {
      "cell_type": "markdown",
      "source": [
        "2 больше 190 см?\n",
        "\n",
        "F(x)~N(174,64)\n",
        "\n",
        "F(x>190)=1-F(x<190)\n",
        "\n",
        "z=(x-m)/q = (190-174)/8= 2\n",
        "\n",
        "F(x<190)=0,97725\n",
        "\n",
        "1-F(x<190)=1-0,97725 = 0,02275\n",
        "\n",
        "верно"
      ],
      "metadata": {
        "id": "bn3XW24Txv10"
      }
    },
    {
      "cell_type": "code",
      "source": [
        "1-stats.norm.cdf(190, loc=174, scale=8)"
      ],
      "metadata": {
        "colab": {
          "base_uri": "https://localhost:8080/"
        },
        "id": "dXaiQV3TtFi6",
        "outputId": "5e2a6995-c333-4ef7-d4be-a96122406dd9"
      },
      "execution_count": 3,
      "outputs": [
        {
          "output_type": "execute_result",
          "data": {
            "text/plain": [
              "0.02275013194817921"
            ]
          },
          "metadata": {},
          "execution_count": 3
        }
      ]
    },
    {
      "cell_type": "markdown",
      "source": [
        "3 от 166 см до 190 см?\n",
        "\n",
        "F(x)~N(174,64)\n",
        "\n",
        "F(x<190)-F(x<166)\n",
        "\n",
        "z1=(x-m)/q = (190-174)/8= 2\n",
        "\n",
        "z2=(x-m)/q = (166-174)/8= -1\n",
        "\n",
        "F(x<190)-F(x<166)= 0,97725-0,15866=0,81859\n",
        "\n",
        "верно"
      ],
      "metadata": {
        "id": "fDSfRtceyV5_"
      }
    },
    {
      "cell_type": "code",
      "source": [
        "stats.norm.cdf(190, loc=174, scale=8)-stats.norm.cdf(166, loc=174, scale=8)"
      ],
      "metadata": {
        "colab": {
          "base_uri": "https://localhost:8080/"
        },
        "id": "ipzbCqTWuFEs",
        "outputId": "bf9742d7-8624-432d-a817-b42f30efe14b"
      },
      "execution_count": 4,
      "outputs": [
        {
          "output_type": "execute_result",
          "data": {
            "text/plain": [
              "0.8185946141203637"
            ]
          },
          "metadata": {},
          "execution_count": 4
        }
      ]
    },
    {
      "cell_type": "markdown",
      "source": [
        "4 от 166 см до 182 см?\n",
        "\n",
        "F(x)~N(174,64)\n",
        "\n",
        "F(x<182)-F(x<166)\n",
        "\n",
        "z1=(x-m)/q = (182-174)/8= 1\n",
        "\n",
        "z2=(x-m)/q = (166-174)/8= -1\n",
        "\n",
        "F(x<182)-F(x<166)= 0,84134-0,15866=0,68268\n",
        "\n",
        "верно"
      ],
      "metadata": {
        "id": "5PCovmDwzOrQ"
      }
    },
    {
      "cell_type": "code",
      "source": [
        "stats.norm.cdf(182, loc=174, scale=8)-stats.norm.cdf(166, loc=174, scale=8)"
      ],
      "metadata": {
        "colab": {
          "base_uri": "https://localhost:8080/"
        },
        "id": "_-wgz1BuuRql",
        "outputId": "cc08be0f-4380-44b8-98aa-311dcab6dd24"
      },
      "execution_count": 5,
      "outputs": [
        {
          "output_type": "execute_result",
          "data": {
            "text/plain": [
              "0.6826894921370859"
            ]
          },
          "metadata": {},
          "execution_count": 5
        }
      ]
    },
    {
      "cell_type": "markdown",
      "source": [
        "5 от 158 см до 190 см?\n",
        "\n",
        "F(x)~N(174,64)\n",
        "\n",
        "F(x<190)-F(x<158)\n",
        "\n",
        "z1=(x-m)/q = (190-174)/8= 2\n",
        "\n",
        "z2=(x-m)/q = (158-174)/8= -2\n",
        "\n",
        "F(x<190)-F(x<158)= 0,97725-0,02275=0,9545\n",
        "\n",
        "верно"
      ],
      "metadata": {
        "id": "u6EwMeAMzjsw"
      }
    },
    {
      "cell_type": "code",
      "source": [
        "stats.norm.cdf(190, loc=174, scale=8)-stats.norm.cdf(158, loc=174, scale=8)"
      ],
      "metadata": {
        "colab": {
          "base_uri": "https://localhost:8080/"
        },
        "id": "6BNhDhLvuWt-",
        "outputId": "81469c33-8fa5-404b-c4c9-79bd5a97c9cd"
      },
      "execution_count": 6,
      "outputs": [
        {
          "output_type": "execute_result",
          "data": {
            "text/plain": [
              "0.9544997361036416"
            ]
          },
          "metadata": {},
          "execution_count": 6
        }
      ]
    },
    {
      "cell_type": "markdown",
      "source": [
        "6 не выше 150 см или не ниже 190 см?\n",
        "\n",
        "F(x)~N(174,64)\n",
        "\n",
        "F(x<150)+(1-F(x<190))\n",
        "\n",
        "z1=(x-m)/q = (150-174)/8= -3\n",
        "\n",
        "z2=(x-m)/q = (190-174)/8= 2\n",
        "\n",
        "F(x<150)+(1-F(x<190))= 0,00135+(1-0,97725)=0,0241\n",
        "\n",
        "верно"
      ],
      "metadata": {
        "id": "o0BnbINq0Jt1"
      }
    },
    {
      "cell_type": "code",
      "source": [
        "stats.norm.cdf(150, loc=174, scale=8)+(1-stats.norm.cdf(190, loc=174, scale=8))"
      ],
      "metadata": {
        "colab": {
          "base_uri": "https://localhost:8080/"
        },
        "id": "ygO8SQJiuhCE",
        "outputId": "3887448f-1aba-4507-e6b3-fccebbfd2f9b"
      },
      "execution_count": 7,
      "outputs": [
        {
          "output_type": "execute_result",
          "data": {
            "text/plain": [
              "0.0241000299798093"
            ]
          },
          "metadata": {},
          "execution_count": 7
        }
      ]
    },
    {
      "cell_type": "markdown",
      "source": [
        "7 не выше 150 см или не ниже 198 см?\n",
        "\n",
        "F(x)~N(174,64)\n",
        "\n",
        "F(x<150)+(1-F(x<198))\n",
        "\n",
        "z1=(x-m)/q = (150-174)/8= -3\n",
        "\n",
        "z2=(x-m)/q = (198-174)/8= 3\n",
        "\n",
        "F(x<150)+(1-F(x<198))= 0,00135+(1-0,99865)=0,0027\n",
        "\n",
        "верно"
      ],
      "metadata": {
        "id": "xSBZBYdU2mUP"
      }
    },
    {
      "cell_type": "code",
      "source": [
        "stats.norm.cdf(150, loc=174, scale=8)+(1-stats.norm.cdf(198, loc=174, scale=8))"
      ],
      "metadata": {
        "colab": {
          "base_uri": "https://localhost:8080/"
        },
        "id": "Fo9MOcafu7An",
        "outputId": "c3616c6f-a5af-4b02-f40b-025586636610"
      },
      "execution_count": 8,
      "outputs": [
        {
          "output_type": "execute_result",
          "data": {
            "text/plain": [
              "0.0026997960632601965"
            ]
          },
          "metadata": {},
          "execution_count": 8
        }
      ]
    },
    {
      "cell_type": "markdown",
      "source": [
        "8 ниже 166 см?\n",
        "\n",
        "F(x<166)\n",
        "\n",
        "z=(x-m)/q = (166-174)/8= -1\n",
        "\n",
        "F(x<166)= 0,15866\n",
        "\n",
        "верно"
      ],
      "metadata": {
        "id": "ecC8hwbT2-XS"
      }
    },
    {
      "cell_type": "code",
      "source": [
        "stats.norm.cdf(166, loc=174, scale=8)"
      ],
      "metadata": {
        "colab": {
          "base_uri": "https://localhost:8080/"
        },
        "id": "z9Xxrg_9vOMv",
        "outputId": "c69c5085-3b51-4c35-9feb-cfb271ac8a34"
      },
      "execution_count": 9,
      "outputs": [
        {
          "output_type": "execute_result",
          "data": {
            "text/plain": [
              "0.15865525393145707"
            ]
          },
          "metadata": {},
          "execution_count": 9
        }
      ]
    },
    {
      "cell_type": "markdown",
      "source": [
        "**Задача 5.** На сколько сигм (средних квадратичных отклонений) отклоняется рост человека,\n",
        "равный 190 см, от\n",
        "математического ожидания роста в популяции, в которой M(X) = 178 см и D(X) = 25 кв.см?"
      ],
      "metadata": {
        "id": "ZLJgJerdsXV2"
      }
    },
    {
      "cell_type": "markdown",
      "source": [
        "РЕШЕНИЕ:"
      ],
      "metadata": {
        "id": "iHKN_5IDTW_Z"
      }
    },
    {
      "cell_type": "markdown",
      "source": [
        "D(X)=q^2\n",
        "\n",
        "q = 5\n",
        "\n",
        "z = x-m/q = (190-178)/5 = 2,4\n"
      ],
      "metadata": {
        "id": "9LRSPefMTZij"
      }
    }
  ]
}
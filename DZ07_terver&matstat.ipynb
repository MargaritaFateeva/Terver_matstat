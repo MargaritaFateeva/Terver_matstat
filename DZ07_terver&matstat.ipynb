{
  "nbformat": 4,
  "nbformat_minor": 0,
  "metadata": {
    "colab": {
      "provenance": [],
      "authorship_tag": "ABX9TyNFD4C1j3kzZSFfvn7pAjmd",
      "include_colab_link": true
    },
    "kernelspec": {
      "name": "python3",
      "display_name": "Python 3"
    },
    "language_info": {
      "name": "python"
    }
  },
  "cells": [
    {
      "cell_type": "markdown",
      "metadata": {
        "id": "view-in-github",
        "colab_type": "text"
      },
      "source": [
        "<a href=\"https://colab.research.google.com/github/MargaritaFateeva/Terver_matstat/blob/main/DZ07_terver%26matstat.ipynb\" target=\"_parent\"><img src=\"https://colab.research.google.com/assets/colab-badge.svg\" alt=\"Open In Colab\"/></a>"
      ]
    },
    {
      "cell_type": "markdown",
      "source": [
        "Урок 7. Непараметрические тесты\n",
        "\n",
        "1-4 задачи решать с помощью функций, 5ю вручную\n",
        "Выберете тест и проверьте, есть ли различия между выборками:\n",
        "\n",
        "**Задача 1.** Даны две независимые выборки. Не соблюдается условие нормальности\n",
        "x1 380,420, 290\n",
        "y1 140,360,200,900\n",
        "Сделайте вывод по результатам, полученным с помощью функции, имеются ли статистические различия между группами?"
      ],
      "metadata": {
        "id": "iGQChrPQkbUL"
      }
    },
    {
      "cell_type": "markdown",
      "source": [
        "РЕШЕНИЕ:"
      ],
      "metadata": {
        "id": "b0NIviYSlLK2"
      }
    },
    {
      "cell_type": "markdown",
      "source": [
        "H0: различий нет m1=m2\n",
        "H1: различия есть m1!=m2\n",
        "Две независимые выборки, не соблюдается условие нормальности - выбираем непараметрический критерий Манна-Уитни.\n"
      ],
      "metadata": {
        "id": "XqfqH4xsl2ng"
      }
    },
    {
      "cell_type": "code",
      "source": [
        "import numpy as np"
      ],
      "metadata": {
        "id": "zGveXcC5nHEk"
      },
      "execution_count": 1,
      "outputs": []
    },
    {
      "cell_type": "code",
      "source": [
        "from scipy import stats"
      ],
      "metadata": {
        "id": "BfASWhCTnSYK"
      },
      "execution_count": 2,
      "outputs": []
    },
    {
      "cell_type": "code",
      "source": [
        "x1= np.array([380,420,290])\n",
        "\n",
        "y1=np.array([140,360,200,900])\n",
        "\n",
        "stats.mannwhitneyu(x1,y1)"
      ],
      "metadata": {
        "colab": {
          "base_uri": "https://localhost:8080/"
        },
        "id": "BJQ8KVemnVLZ",
        "outputId": "9d6f8b9b-7098-4493-cc28-ad24bbd0103a"
      },
      "execution_count": 4,
      "outputs": [
        {
          "output_type": "execute_result",
          "data": {
            "text/plain": [
              "MannwhitneyuResult(statistic=8.0, pvalue=0.6285714285714286)"
            ]
          },
          "metadata": {},
          "execution_count": 4
        }
      ]
    },
    {
      "cell_type": "markdown",
      "source": [
        "pvalue=0.6 > a=0.05 - значит рассчитанная статистика относится к области принятия гипотезы H0.\n",
        "**H0 не отвергается статистических различий нет**"
      ],
      "metadata": {
        "id": "_xATOVF5ocOL"
      }
    },
    {
      "cell_type": "markdown",
      "source": [
        "**Задача 2.** Исследовалось влияние препарата на уровень давления пациентов. Сначала\n",
        "измерялось давление до приема препарата, потом через 10 минут и через 30 минут. Есть\n",
        "ли статистически значимые различия между измерениями давления? В выборках не соблюдается условие нормальности.\n",
        "1е измерение до приема препарата: 150, 160, 165, 145, 155\n",
        "2е измерение через 10 минут: 140, 155, 150, 130, 135\n",
        "3е измерение через 30 минут: 130, 130, 120, 130, 125"
      ],
      "metadata": {
        "id": "cb8RyDivkgmK"
      }
    },
    {
      "cell_type": "markdown",
      "source": [
        "РЕШЕНИЕ:"
      ],
      "metadata": {
        "id": "yjU47KKVlMCr"
      }
    },
    {
      "cell_type": "markdown",
      "source": [
        "H0: различий нет m1=m2=m3\n",
        "H1: различия есть m1!=m2!=m3\n",
        "Больше 2 зависимых выборок, анализ повторных измерений, не соблюдается условие нормальности- выбираем непараметрический критерий Фридмана."
      ],
      "metadata": {
        "id": "5KaeTK6Lo-DO"
      }
    },
    {
      "cell_type": "code",
      "source": [
        "before = np.array([150, 160, 165, 145, 155])\n",
        "after10= np.array([140, 155, 150, 130, 135])\n",
        "after30= np.array([130, 130, 120, 130, 125])\n",
        "\n",
        "stats.friedmanchisquare(before, after10, after30)"
      ],
      "metadata": {
        "colab": {
          "base_uri": "https://localhost:8080/"
        },
        "id": "vhxcgrn_o9Yn",
        "outputId": "2570a96b-4843-45cb-815d-09c7008c81ac"
      },
      "execution_count": 5,
      "outputs": [
        {
          "output_type": "execute_result",
          "data": {
            "text/plain": [
              "FriedmanchisquareResult(statistic=9.578947368421062, pvalue=0.00831683351100441)"
            ]
          },
          "metadata": {},
          "execution_count": 5
        }
      ]
    },
    {
      "cell_type": "markdown",
      "source": [
        "pvalue=0.008 < a=0.05 - значит рассчитанная статистика относится к области принятия гипотезы H1.\n",
        "**H0 отвергается, различия есть**"
      ],
      "metadata": {
        "id": "l-O-sS5tqlA7"
      }
    },
    {
      "cell_type": "markdown",
      "source": [
        "**Задача 3.** Сравните 1 и 2 е измерения, предполагая, что 3го измерения через 30 минут не было. Есть\n",
        "ли статистически значимые различия между измерениями давления?"
      ],
      "metadata": {
        "id": "dtqxGXaLklyk"
      }
    },
    {
      "cell_type": "markdown",
      "source": [
        "РЕШЕНИЕ:"
      ],
      "metadata": {
        "id": "IB_AgEdRlNBZ"
      }
    },
    {
      "cell_type": "markdown",
      "source": [
        "H0: различий нет m1=m2\n",
        "H1: различия есть m1!=m2\n",
        "2 зависимых выбороки, не соблюдается условие нормальности- выбираем непараметрический критерий Уилкоксона."
      ],
      "metadata": {
        "id": "bCpY2z6_rftl"
      }
    },
    {
      "cell_type": "code",
      "source": [
        "before = np.array([150, 160, 165, 145, 155])\n",
        "after10= np.array([140, 155, 150, 130, 135])\n",
        "stats.wilcoxon(before,after10)"
      ],
      "metadata": {
        "colab": {
          "base_uri": "https://localhost:8080/"
        },
        "id": "mZilmdI4o7zL",
        "outputId": "7140ccb5-4e84-4524-ca9b-760b18da5d07"
      },
      "execution_count": 6,
      "outputs": [
        {
          "output_type": "execute_result",
          "data": {
            "text/plain": [
              "WilcoxonResult(statistic=0.0, pvalue=0.0625)"
            ]
          },
          "metadata": {},
          "execution_count": 6
        }
      ]
    },
    {
      "cell_type": "markdown",
      "source": [
        "pvalue=0.06 > a=0.05 - значит рассчитанная статистика относится к области принятия гипотезы H0.\n",
        "**H0 не отвергается статистических различий нет**"
      ],
      "metadata": {
        "id": "V6lrrpBarwZP"
      }
    },
    {
      "cell_type": "markdown",
      "source": [
        "**Задача 4.** Даны 3 группы учеников плавания. Не соблюдается условие нормальности.\n",
        "В 1 группе время на дистанцию 50 м составляют:\n",
        "56, 60, 62, 55, 71, 67, 59, 58, 64, 67\n",
        "Вторая группа : 57, 58, 69, 48, 72, 70, 68, 71, 50, 53\n",
        "Третья группа: 57, 67, 49, 48, 47, 55, 66, 51, 54\n",
        "Есть\n",
        "ли статистически значимые различия между группами?"
      ],
      "metadata": {
        "id": "Qa6ozaItkpTV"
      }
    },
    {
      "cell_type": "markdown",
      "source": [
        "РЕШЕНИЕ:"
      ],
      "metadata": {
        "id": "HttzbEtqlN4-"
      }
    },
    {
      "cell_type": "markdown",
      "source": [
        "H0: различий нет m1=m2=m3\n",
        "H1: различия есть m1!=m2!=m3\n",
        "Больше 2 независимых выборок, не соблюдается условие нормальности- выбираем непараметрический критерий Крускала-Уоллиса."
      ],
      "metadata": {
        "id": "tjMwYW_GsEsP"
      }
    },
    {
      "cell_type": "code",
      "source": [
        "gr1=np.array([56, 60, 62, 55, 71, 67, 59, 58, 64, 67])\n",
        "gr2=np.array([57, 58, 69, 48, 72, 70, 68, 71, 50, 53])\n",
        "gr3=np.array([57, 67, 49, 48, 47, 55, 66, 51, 54])\n",
        "stats.kruskal(gr1, gr2, gr3)"
      ],
      "metadata": {
        "colab": {
          "base_uri": "https://localhost:8080/"
        },
        "id": "zvZ5nKnsskGm",
        "outputId": "693a4504-8f8b-4cf9-8476-82a14c61c29a"
      },
      "execution_count": 7,
      "outputs": [
        {
          "output_type": "execute_result",
          "data": {
            "text/plain": [
              "KruskalResult(statistic=5.465564058257224, pvalue=0.0650380998590494)"
            ]
          },
          "metadata": {},
          "execution_count": 7
        }
      ]
    },
    {
      "cell_type": "markdown",
      "source": [
        "pvalue=0.06 > a=0.05 - значит рассчитанная статистика относится к области принятия гипотезы H0.\n",
        "**H0 не отвергается статистических различий нет**"
      ],
      "metadata": {
        "id": "LhBzmxUotDt5"
      }
    },
    {
      "cell_type": "markdown",
      "source": [
        "**Задача 5.** Заявляется, что партия изготавливается со средним арифметическим 2,5 см. Проверить\n",
        "данную гипотезу, если известно, что размеры изделий подчинены нормальному закону\n",
        "распределения. Объем выборки 10, уровень статистической значимости 5%\n",
        "2.51, 2.35, 2.74, 2.56, 2.40, 2.36, 2.65, 2.7, 2.67, 2.34"
      ],
      "metadata": {
        "id": "qWUAHZ8dkt0X"
      }
    },
    {
      "cell_type": "markdown",
      "source": [
        "РЕШЕНИЕ:"
      ],
      "metadata": {
        "id": "wCj8pdttlPK7"
      }
    },
    {
      "cell_type": "markdown",
      "source": [
        "H0: m=2,5\n",
        "\n",
        "H1: m!=2,5\n",
        "\n",
        "n=10\n",
        "\n",
        "a=0,05\n",
        "\n",
        "xср = (2,51+2,35+2,74+2,56+2,40+2,36+2,65+2,7+2,67+2,34)/10= 2,528\n",
        "\n",
        "qнабл = 0.157\n",
        "\n",
        "соблюдается условие нормальности, неизвестно среднеквадратичное отклонение - выбираем критерий Стьюдента.\n",
        "\n",
        "tнаблюдаемое = (xcp - m0) / qнабл/(n)^1/2 = (2,528-2,5)/(0.157/10^1/2)=0,571\n",
        "\n",
        "t критическое = 2,262 и -2,262 (тест двусторонний) 9ст свободы и a/2=0.975\n",
        "\n",
        "сравниваем с правой критической областью (H1 можно скорректировать m>2,5 тк xср по выборке больше m0)\n",
        "\n",
        " tнабл=0,571 < tкр=2,262 - относится к области принятия гипотезы H0\n",
        "\n",
        " Значит **принимаем H0**"
      ],
      "metadata": {
        "id": "1kR_Daycw3oh"
      }
    },
    {
      "cell_type": "markdown",
      "source": [],
      "metadata": {
        "id": "dnjo7BCz2aCw"
      }
    },
    {
      "cell_type": "code",
      "source": [
        "a=np.array([2.51, 2.35, 2.74, 2.56, 2.40, 2.36, 2.65, 2.7, 2.67, 2.34])\n",
        "np.std(a, ddof=1)"
      ],
      "metadata": {
        "colab": {
          "base_uri": "https://localhost:8080/"
        },
        "id": "fO5b5ZNWyB4w",
        "outputId": "fa8e0096-c3d5-475f-89e8-f4f6a24d1e68"
      },
      "execution_count": 10,
      "outputs": [
        {
          "output_type": "execute_result",
          "data": {
            "text/plain": [
              "0.1572542173961923"
            ]
          },
          "metadata": {},
          "execution_count": 10
        }
      ]
    },
    {
      "cell_type": "code",
      "source": [
        "alpha = 0.05\n",
        "n = 10\n",
        "t1=stats.t.ppf(alpha/2, df=n-1)\n",
        "t2=stats.t.ppf(1-alpha/2, df=n-1)\n",
        "t1, t2"
      ],
      "metadata": {
        "colab": {
          "base_uri": "https://localhost:8080/"
        },
        "id": "aalKXZ1x1VFk",
        "outputId": "b141e056-82a7-4d3b-e8f8-66eda1c629ce"
      },
      "execution_count": 11,
      "outputs": [
        {
          "output_type": "execute_result",
          "data": {
            "text/plain": [
              "(-2.262157162740992, 2.2621571627409915)"
            ]
          },
          "metadata": {},
          "execution_count": 11
        }
      ]
    },
    {
      "cell_type": "code",
      "source": [
        "stats.ttest_1samp(a,10)"
      ],
      "metadata": {
        "colab": {
          "base_uri": "https://localhost:8080/"
        },
        "id": "4JDiVtbT1jil",
        "outputId": "1a45426f-0962-4b11-9576-8035505a90bf"
      },
      "execution_count": 12,
      "outputs": [
        {
          "output_type": "execute_result",
          "data": {
            "text/plain": [
              "TtestResult(statistic=-150.2569474321155, pvalue=1.302122012238181e-16, df=9)"
            ]
          },
          "metadata": {},
          "execution_count": 12
        }
      ]
    },
    {
      "cell_type": "markdown",
      "source": [
        "Проверка: доверительный интервал (-2,62;2,62) для оценки m0=2,5 мат ожидания - H0 принимаем\n",
        "\n",
        "критерий стьюдента также дает pvalue=1,3>a=0,05 - значит принимаем гипотезу H0"
      ],
      "metadata": {
        "id": "Vg0QU9qm1ntn"
      }
    }
  ]
}
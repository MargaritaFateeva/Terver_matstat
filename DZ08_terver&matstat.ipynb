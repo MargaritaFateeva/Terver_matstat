{
  "nbformat": 4,
  "nbformat_minor": 0,
  "metadata": {
    "colab": {
      "provenance": [],
      "authorship_tag": "ABX9TyPbATkEsJW2BUC73T/KCDSm",
      "include_colab_link": true
    },
    "kernelspec": {
      "name": "python3",
      "display_name": "Python 3"
    },
    "language_info": {
      "name": "python"
    }
  },
  "cells": [
    {
      "cell_type": "markdown",
      "metadata": {
        "id": "view-in-github",
        "colab_type": "text"
      },
      "source": [
        "<a href=\"https://colab.research.google.com/github/MargaritaFateeva/Terver_matstat/blob/main/DZ08_terver%26matstat.ipynb\" target=\"_parent\"><img src=\"https://colab.research.google.com/assets/colab-badge.svg\" alt=\"Open In Colab\"/></a>"
      ]
    },
    {
      "cell_type": "markdown",
      "source": [
        "Урок 8. Корреляционный анализ\n",
        "\n",
        "**Задача 1** Даны значения величины заработной платы заемщиков банка (zp) и значения их\n",
        "поведенческого кредитного скоринга (ks):\n",
        "\n",
        "zp = [35, 45, 190, 200, 40, 70, 54, 150, 120, 110],\n",
        "\n",
        "ks = [401, 574, 874, 919, 459, 739, 653, 902, 746, 832].\n",
        "\n",
        "Найдите ковариацию этих двух величин с помощью элементарных действий, а затем с\n",
        "помощью функции cov из numpy\n",
        "Полученные значения должны быть равны.\n",
        "Найдите коэффициент корреляции Пирсона с помощью ковариации и\n",
        "среднеквадратичных отклонений двух признаков,\n",
        "а затем с использованием функций из библиотек numpy и pandas."
      ],
      "metadata": {
        "id": "-Dv07NBZ9TRM"
      }
    },
    {
      "cell_type": "markdown",
      "source": [
        "РЕШЕНИЕ:"
      ],
      "metadata": {
        "id": "ePk8T-RNaBq0"
      }
    },
    {
      "cell_type": "markdown",
      "source": [
        "cov(x,y) = M(xy) - M(x)*M(y)\n",
        "\n",
        "M(zp*ks)= (401*35+574*45+874*190+919*200+459*40+739*70+653*54+902*150+746*120+832*110)/10 = 81141,7\n",
        "\n",
        "M(zp) = (35+45+190+200+40+70+54+150+120+110)/10 = 101,4\n",
        "\n",
        "M(ks) = (401+574+874+919+459+739+653+902+746+832)/10 = 709,9\n",
        "\n",
        "**cov(zp, ks)** = 81141,7-101,4*709,9 = 9157,84\n",
        "\n",
        "**r(x,y)** = cov(x,y)/(q(x)*q(y)) = 9157,84/(59,115 * 174,553) = 0,88749934312"
      ],
      "metadata": {
        "id": "WGQ588p-aMDS"
      }
    },
    {
      "cell_type": "code",
      "source": [
        "import matplotlib.pyplot as plt\n",
        "import pandas as pd\n",
        "import numpy as np\n",
        "from scipy import stats"
      ],
      "metadata": {
        "id": "ZFoQmCNs9v9C"
      },
      "execution_count": 2,
      "outputs": []
    },
    {
      "cell_type": "markdown",
      "source": [
        "Используем в рассчетах смещенную ковариацию"
      ],
      "metadata": {
        "id": "EczDeHSIlu5Z"
      }
    },
    {
      "cell_type": "code",
      "source": [
        "zp = np.array([35, 45, 190, 200, 40, 70, 54, 150, 120, 110])\n",
        "ks = np.array([401, 574, 874, 919, 459, 739, 653, 902, 746, 832])\n",
        "np.cov(zp,ks,ddof=0)"
      ],
      "metadata": {
        "colab": {
          "base_uri": "https://localhost:8080/"
        },
        "id": "_Bpgw7bsaOgs",
        "outputId": "06d0ee00-e526-461c-91a3-01f142d779fe"
      },
      "execution_count": 16,
      "outputs": [
        {
          "output_type": "execute_result",
          "data": {
            "text/plain": [
              "array([[ 3494.64,  9157.84],\n",
              "       [ 9157.84, 30468.89]])"
            ]
          },
          "metadata": {},
          "execution_count": 16
        }
      ]
    },
    {
      "cell_type": "code",
      "source": [
        "qzp=np.std(zp,ddof=0)\n",
        "qks=np.std(ks,ddof=0)\n",
        "qzp, qks"
      ],
      "metadata": {
        "colab": {
          "base_uri": "https://localhost:8080/"
        },
        "id": "6JyG-xnvklIh",
        "outputId": "c3378188-ef4a-4e79-b08d-a9bcbd74efb3"
      },
      "execution_count": 17,
      "outputs": [
        {
          "output_type": "execute_result",
          "data": {
            "text/plain": [
              "(59.115480206118605, 174.55340157098058)"
            ]
          },
          "metadata": {},
          "execution_count": 17
        }
      ]
    },
    {
      "cell_type": "code",
      "source": [
        "r=np.corrcoef(zp,ks)\n",
        "r"
      ],
      "metadata": {
        "colab": {
          "base_uri": "https://localhost:8080/"
        },
        "id": "i9vX_y5pd1-W",
        "outputId": "11904874-057e-4167-f695-119e6202d6cc"
      },
      "execution_count": 14,
      "outputs": [
        {
          "output_type": "execute_result",
          "data": {
            "text/plain": [
              "array([[1.        , 0.88749009],\n",
              "       [0.88749009, 1.        ]])"
            ]
          },
          "metadata": {},
          "execution_count": 14
        }
      ]
    },
    {
      "cell_type": "code",
      "source": [
        "plt.scatter(zp, ks)\n",
        "plt.title(f'r = {round(r[0][1], 3)}')\n",
        "plt.xlabel('zp')\n",
        "plt.ylabel('ks')\n",
        "plt.show"
      ],
      "metadata": {
        "colab": {
          "base_uri": "https://localhost:8080/",
          "height": 489
        },
        "id": "uw8fDM3WcPvn",
        "outputId": "cc5fbd00-a7ba-4260-cac6-0a67e83fcd04"
      },
      "execution_count": 15,
      "outputs": [
        {
          "output_type": "execute_result",
          "data": {
            "text/plain": [
              "<function matplotlib.pyplot.show(close=None, block=None)>"
            ]
          },
          "metadata": {},
          "execution_count": 15
        },
        {
          "output_type": "display_data",
          "data": {
            "text/plain": [
              "<Figure size 640x480 with 1 Axes>"
            ],
            "image/png": "[encoded data removed]"
          },
          "metadata": {}
        }
      ]
    },
    {
      "cell_type": "markdown",
      "source": [
        "**Задача 2** Измерены значения IQ выборки студентов,\n",
        "обучающихся в местных технических вузах:\n",
        "\n",
        "131, 125, 115, 122, 131, 115, 107, 99, 125, 111.\n",
        "\n",
        "Известно, что в генеральной совокупности IQ распределен нормально.\n",
        "Найдите доверительный интервал для математического ожидания с надежностью 0.95."
      ],
      "metadata": {
        "id": "EesHwgUF9Z34"
      }
    },
    {
      "cell_type": "markdown",
      "source": [
        "РЕШЕНИЕ:"
      ],
      "metadata": {
        "id": "DFUR-7kvaF44"
      }
    },
    {
      "cell_type": "markdown",
      "source": [
        "a=0.05\n",
        "n=10\n",
        "\n",
        "xcp = (131+125+115+122+131+115+107+99+125+111)/10=118,1\n",
        "\n",
        "Сигма неизвестна, выбираем критерий Стьюдента\n",
        "xср +- t a/2 * q/n^1/2\n",
        "\n",
        "t 0.025=2,262 - табличное значение 9 степеней свободы p=0,975\n",
        "\n",
        "q=10.545 сигма считаем в Python\n",
        "\n",
        "118,1-2,262 * 10,545/10^1/2 < m < 118,1+2,262 * 10,545/10^1/2\n",
        "\n",
        "**(110,5516;125,648)** - доверительный интервал для оценки мат.ожидания генеральной соовокупности с надежностью 0.95"
      ],
      "metadata": {
        "id": "-qecSHM9OU6S"
      }
    },
    {
      "cell_type": "code",
      "source": [
        "x=np.array([131, 125, 115, 122, 131, 115, 107, 99, 125, 111])\n",
        "alpha=0.05\n",
        "xsr = np.mean(x)\n",
        "xsr"
      ],
      "metadata": {
        "colab": {
          "base_uri": "https://localhost:8080/"
        },
        "id": "lliRC5439wms",
        "outputId": "3044f55c-10e5-4882-e2ec-b9e1f15abc80"
      },
      "execution_count": 3,
      "outputs": [
        {
          "output_type": "execute_result",
          "data": {
            "text/plain": [
              "118.1"
            ]
          },
          "metadata": {},
          "execution_count": 3
        }
      ]
    },
    {
      "cell_type": "code",
      "source": [
        "q=np.std(x,ddof=1)\n",
        "q"
      ],
      "metadata": {
        "colab": {
          "base_uri": "https://localhost:8080/"
        },
        "id": "ANEi92kQO1M9",
        "outputId": "59086076-6842-402c-ab40-ed072ed6f6dd"
      },
      "execution_count": 4,
      "outputs": [
        {
          "output_type": "execute_result",
          "data": {
            "text/plain": [
              "10.54566788359614"
            ]
          },
          "metadata": {},
          "execution_count": 4
        }
      ]
    },
    {
      "cell_type": "code",
      "source": [
        "alpha = 0.05\n",
        "n = 10\n",
        "t=stats.t.ppf((1-alpha/2), df=n-1)\n",
        "a = xsr-t*q/np.sqrt(n)\n",
        "b = xsr+t*q/np.sqrt(n)\n",
        "a, b"
      ],
      "metadata": {
        "colab": {
          "base_uri": "https://localhost:8080/"
        },
        "id": "7-3ZhnnuPNO4",
        "outputId": "1063226c-5cb0-499c-e120-b778cd88bbba"
      },
      "execution_count": 5,
      "outputs": [
        {
          "output_type": "execute_result",
          "data": {
            "text/plain": [
              "(110.55608365158724, 125.64391634841274)"
            ]
          },
          "metadata": {},
          "execution_count": 5
        }
      ]
    },
    {
      "cell_type": "markdown",
      "source": [
        "**Задача 3** Известно, что рост футболистов в сборной распределен нормально\n",
        "с дисперсией генеральной совокупности, равной 25 кв.см. Объем выборки равен 27,\n",
        "среднее выборочное составляет 174.2. Найдите доверительный интервал для\n",
        "математического\n",
        "ожидания с надежностью 0.95."
      ],
      "metadata": {
        "id": "mZEuILM69cwm"
      }
    },
    {
      "cell_type": "markdown",
      "source": [
        "РЕШЕНИЕ:"
      ],
      "metadata": {
        "id": "1U73jnr-aG2y"
      }
    },
    {
      "cell_type": "markdown",
      "source": [
        "D=25\n",
        "a=0.05\n",
        "xср=174,2\n",
        "n=27\n",
        "q=5\n",
        "\n",
        "Сигма известна, выбираем Z-критерий\n",
        "xср +- z a/2 * q/n^1/2\n",
        "\n",
        "z 0.025=1.96 - табличное значение соответсвует p=0.975\n",
        "\n",
        "174,2-1,96*5/27^1/2 < m < 174,2+1,96*5/27^1/2\n",
        "174,2-1,886 < m < 174,2+1,886\n",
        "\n",
        "**(172,314;176,086)** - доверительный интервал для оценки мат.ожидания генеральной соовокупности с надежностью 0.95"
      ],
      "metadata": {
        "id": "JQ_sfIL3QS1w"
      }
    },
    {
      "cell_type": "code",
      "source": [
        "q=5\n",
        "a=0.05\n",
        "xs=174.2\n",
        "n=27\n",
        "z=stats.norm.ppf(0.975)\n",
        "a = xs-z*q/np.sqrt(n)\n",
        "b = xs+z*q/np.sqrt(n)\n",
        "a, b"
      ],
      "metadata": {
        "colab": {
          "base_uri": "https://localhost:8080/"
        },
        "id": "bJPpFzMbQKyA",
        "outputId": "c30f68fc-1485-464d-b51e-5f27a74bab56"
      },
      "execution_count": 6,
      "outputs": [
        {
          "output_type": "execute_result",
          "data": {
            "text/plain": [
              "(172.3140237765397, 176.08597622346028)"
            ]
          },
          "metadata": {},
          "execution_count": 6
        }
      ]
    }
  ]
}